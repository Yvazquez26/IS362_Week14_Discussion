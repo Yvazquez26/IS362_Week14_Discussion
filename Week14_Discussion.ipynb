{
 "cells": [
  {
   "cell_type": "markdown",
   "metadata": {},
   "source": [
    "## Recommender Systems\n",
    "\n",
    "  ## Scenario Design Analysis for Pinterest"
   ]
  },
  {
   "cell_type": "markdown",
   "metadata": {},
   "source": [
    "## Who are your Target Users?"
   ]
  },
  {
   "cell_type": "markdown",
   "metadata": {},
   "source": [
    "Pinterest's targets users who are visually looking for ideas and recommendations to spark inspiration like recipes, home and style, hobbies and a lot more, based on taste. "
   ]
  },
  {
   "cell_type": "markdown",
   "metadata": {},
   "source": [
    "## What are their key goals?"
   ]
  },
  {
   "cell_type": "markdown",
   "metadata": {},
   "source": [
    "Pinterest's key goals are to \n",
    "- Connect everyone in the world through the 'things' they find interesting\n",
    "and\n",
    "\n",
    "- Help users discover ideas and products that match their interests.\n"
   ]
  },
  {
   "cell_type": "markdown",
   "metadata": {},
   "source": [
    "## How can you accomplish those goals?"
   ]
  },
  {
   "cell_type": "markdown",
   "metadata": {},
   "source": [
    "Pinterest helps to accomplish these goals by allowing its users to discover pins they love and letting them save pins or boards to keep their ideas and inspirations organized and easy to find. Every idea is presented by a pin, which is an image that is searched and saved by users. Pins can also link back to websites."
   ]
  },
  {
   "cell_type": "markdown",
   "metadata": {},
   "source": [
    "## Reverse Engineer"
   ]
  },
  {
   "cell_type": "markdown",
   "metadata": {},
   "source": [
    "Using a visual orientation, Pinterest focuses on the concept of a person’s lifestyle, allowing users to share their tastes and interests with others in order to help them discover those of likeminded people.\n",
    "\n",
    "Users can either upload images from their computer or pin things they find on the web using the Pinterest bookmarklet.\n",
    "\n",
    "Users can perform standard social networking functions like follow their friends boards, like and comment on other users’ pins, re-pinning content to their own boards, share others’ pins on Facebook and Twitter or via email, and even embedding individual pins on their website or blog."
   ]
  },
  {
   "cell_type": "markdown",
   "metadata": {},
   "source": [
    "## Recommendations for Improvements"
   ]
  },
  {
   "cell_type": "markdown",
   "metadata": {},
   "source": [
    "I would recommend Users to be notified when a board was deleted by the User, but still give them a day or 2 to give them a chance to screenshot or manually save all the pins inpirations they found on that board. Boards disappear without warning and without giving users a chance to take one last look."
   ]
  },
  {
   "cell_type": "markdown",
   "metadata": {},
   "source": [
    "References:\n",
    "   \n",
    "   He,R. (2018 August 15). PinSage: A new graph convolutional neural network for web-scale recommender systems. Retrieved from https://medium.com/pinterest-engineering/pinsage-a-new-graph-convolutional-neural-network-for-web-scale-recommender-systems-88795a107f48\n",
    "   \n",
    "   \n",
    "   Meng, A. (2019 January 14). WHAT IS PINTEREST, AND HOW DOES IT WORK? Retrieved from https://www.infront.com/blog/what-is-pinterest-and-how-does-it-work/"
   ]
  }
 ],
 "metadata": {
  "kernelspec": {
   "display_name": "Python 3",
   "language": "python",
   "name": "python3"
  },
  "language_info": {
   "codemirror_mode": {
    "name": "ipython",
    "version": 3
   },
   "file_extension": ".py",
   "mimetype": "text/x-python",
   "name": "python",
   "nbconvert_exporter": "python",
   "pygments_lexer": "ipython3",
   "version": "3.7.4"
  }
 },
 "nbformat": 4,
 "nbformat_minor": 2
}
